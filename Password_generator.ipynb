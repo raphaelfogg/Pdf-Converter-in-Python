{
 "cells": [
  {
   "cell_type": "markdown",
   "id": "ab695fe8-d0d5-40e0-9503-dccf755232f6",
   "metadata": {},
   "source": [
    "Password generator by Raphaelfoog"
   ]
  },
  {
   "cell_type": "markdown",
   "id": "d5979534-4a37-48e9-a56b-01f85bc99c52",
   "metadata": {},
   "source": [
    "This is a simple passwrod generator, that can generate strong random passwords."
   ]
  },
  {
   "cell_type": "markdown",
   "id": "57c493b0-d334-47e6-ace8-e6ad427a47a9",
   "metadata": {},
   "source": [
    "Import your necessary libraries."
   ]
  },
  {
   "cell_type": "code",
   "execution_count": 2,
   "id": "4e8a339e-e887-479d-be7c-f92b637b5c39",
   "metadata": {},
   "outputs": [],
   "source": [
    "import random\n",
    "import string"
   ]
  },
  {
   "cell_type": "markdown",
   "id": "fe079e47-d07b-40e8-8430-3cdc3de2a653",
   "metadata": {},
   "source": [
    "Function"
   ]
  },
  {
   "cell_type": "code",
   "execution_count": 5,
   "id": "7b8f5730-ce37-4394-9918-4a50200b38e9",
   "metadata": {},
   "outputs": [
    {
     "ename": "NameError",
     "evalue": "name 'use_uppercase' is not defined",
     "output_type": "error",
     "traceback": [
      "\u001b[0;31m---------------------------------------------------------------------------\u001b[0m",
      "\u001b[0;31mNameError\u001b[0m                                 Traceback (most recent call last)",
      "Cell \u001b[0;32mIn[5], line 30\u001b[0m\n\u001b[1;32m     27\u001b[0m     \u001b[38;5;28;01mreturn\u001b[39;00m \u001b[38;5;124m'\u001b[39m\u001b[38;5;124m'\u001b[39m\u001b[38;5;241m.\u001b[39mjoin(password)\n\u001b[1;32m     29\u001b[0m \u001b[38;5;66;03m# Example:\u001b[39;00m\n\u001b[0;32m---> 30\u001b[0m \u001b[38;5;28mprint\u001b[39m(password_generator(length \u001b[38;5;241m=\u001b[39m\u001b[38;5;241m18\u001b[39m, use_upercase\u001b[38;5;241m=\u001b[39m \u001b[38;5;28;01mTrue\u001b[39;00m, use_digits\u001b[38;5;241m=\u001b[39m \u001b[38;5;28;01mTrue\u001b[39;00m, use_special\u001b[38;5;241m=\u001b[39m \u001b[38;5;28;01mTrue\u001b[39;00m))\n",
      "Cell \u001b[0;32mIn[5], line 8\u001b[0m, in \u001b[0;36mpassword_generator\u001b[0;34m(length, use_upercase, use_digits, use_special)\u001b[0m\n\u001b[1;32m      4\u001b[0m     \u001b[38;5;28;01mraise\u001b[39;00m \u001b[38;5;167;01mValueError\u001b[39;00m(\u001b[38;5;124m\"\u001b[39m\u001b[38;5;124mPassword must have more than 8 characters.\u001b[39m\u001b[38;5;124m\"\u001b[39m)\n\u001b[1;32m      6\u001b[0m character_set \u001b[38;5;241m=\u001b[39m string\u001b[38;5;241m.\u001b[39mascii_lowercase\n\u001b[0;32m----> 8\u001b[0m \u001b[38;5;28;01mif\u001b[39;00m use_uppercase:\n\u001b[1;32m      9\u001b[0m     character_set \u001b[38;5;241m+\u001b[39m\u001b[38;5;241m=\u001b[39m string\u001b[38;5;241m.\u001b[39mascii_uppercase\n\u001b[1;32m     10\u001b[0m \u001b[38;5;28;01mif\u001b[39;00m use_digits:\n",
      "\u001b[0;31mNameError\u001b[0m: name 'use_uppercase' is not defined"
     ]
    }
   ],
   "source": [
    "def password_generator(length =18, use_upercase= True, use_digits= True, use_special= True): \n",
    "    # Set the length to the number that is most suitable to your app. The larger the number the more secure ypur account will be.\n",
    "    if length < 8:\n",
    "        raise ValueError(\"Password must have more than 8 characters.\")\n",
    "\n",
    "    character_set = string.ascii_lowercase\n",
    "\n",
    "    if use_uppercase:\n",
    "        character_set += string.ascii_uppercase\n",
    "    if use_digits:\n",
    "        character_set += string.digits\n",
    "    if use_special:\n",
    "        character_set += string.punctuation\n",
    "\n",
    "    password = [\n",
    "        random.choice(string.ascii_lowercase),\n",
    "        random.choice(string.ascii_uppercase) if use_uppercase else random.choice(string.ascii_lowercase),\n",
    "        random.choice(string.digits) if use_digits else random.choice(string.ascii_lowercase),\n",
    "        random.choice(string.punctuation) if use_special else random.choice(string.ascii_lowercase)\n",
    "    ]\n",
    "\n",
    "    password += random.choices(character_set, k=length-4)\n",
    "    \n",
    "    # adapt k to the number of mandatory characters you need\n",
    "\n",
    "    random.shuffle(password)\n",
    "    return ''.join(password)\n",
    "\n",
    "# Example:\n",
    "print(password_generator(length =18, use_upercase= True, use_digits= True, use_special= True))\n",
    "                  "
   ]
  },
  {
   "cell_type": "code",
   "execution_count": null,
   "id": "eb375ad8-9f50-4664-9bf4-ad50e6667f70",
   "metadata": {},
   "outputs": [],
   "source": []
  }
 ],
 "metadata": {
  "kernelspec": {
   "display_name": "Python 3 (ipykernel)",
   "language": "python",
   "name": "python3"
  },
  "language_info": {
   "codemirror_mode": {
    "name": "ipython",
    "version": 3
   },
   "file_extension": ".py",
   "mimetype": "text/x-python",
   "name": "python",
   "nbconvert_exporter": "python",
   "pygments_lexer": "ipython3",
   "version": "3.11.8"
  }
 },
 "nbformat": 4,
 "nbformat_minor": 5
}
