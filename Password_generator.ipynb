{
 "cells": [
  {
   "cell_type": "markdown",
   "id": "ab695fe8-d0d5-40e0-9503-dccf755232f6",
   "metadata": {},
   "source": [
    "Password generator by Raphaelfoog"
   ]
  },
  {
   "cell_type": "markdown",
   "id": "d5979534-4a37-48e9-a56b-01f85bc99c52",
   "metadata": {},
   "source": [
    "This is a simple passwrod generator, that can generate strong random passwords."
   ]
  },
  {
   "cell_type": "markdown",
   "id": "57c493b0-d334-47e6-ace8-e6ad427a47a9",
   "metadata": {},
   "source": [
    "Import your necessary libraries."
   ]
  },
  {
   "cell_type": "code",
   "execution_count": 3,
   "id": "4e8a339e-e887-479d-be7c-f92b637b5c39",
   "metadata": {},
   "outputs": [],
   "source": [
    "import random\n",
    "import string"
   ]
  },
  {
   "cell_type": "markdown",
   "id": "fe079e47-d07b-40e8-8430-3cdc3de2a653",
   "metadata": {},
   "source": [
    "Function"
   ]
  },
  {
   "cell_type": "code",
   "execution_count": 4,
   "id": "7b8f5730-ce37-4394-9918-4a50200b38e9",
   "metadata": {},
   "outputs": [
    {
     "name": "stdout",
     "output_type": "stream",
     "text": [
      "K$&BMf^=z1K7rtE)#J\n"
     ]
    }
   ],
   "source": [
    "def password_generator(length =18, use_upercase= True, use_digits= True, use_special= True): \n",
    "    # Set the length to the number that is most suitable to your app. The larger the number the more secure ypur account will be.\n",
    "    if length < 8:\n",
    "        raise ValueError(\"Password must have more than 8 characters.\")\n",
    "\n",
    "    character_set = string.ascii_lowercase\n",
    "\n",
    "    if use_upercase:\n",
    "        character_set += string.ascii_uppercase\n",
    "    if use_digits:\n",
    "        character_set += string.digits\n",
    "    if use_special:\n",
    "        character_set += string.punctuation\n",
    "\n",
    "    password = [\n",
    "        random.choice(string.ascii_lowercase),\n",
    "        random.choice(string.ascii_uppercase) if use_upercase else random.choice(string.ascii_lowercase),\n",
    "        random.choice(string.digits) if use_digits else random.choice(string.ascii_lowercase),\n",
    "        random.choice(string.punctuation) if use_special else random.choice(string.ascii_lowercase)\n",
    "    ]\n",
    "\n",
    "    password += random.choices(character_set, k=length-4)\n",
    "    \n",
    "    # adapt k to the number of mandatory characters you need\n",
    "\n",
    "    random.shuffle(password)\n",
    "    return ''.join(password)\n",
    "\n",
    "# Example:\n",
    "print(password_generator(length =18, use_upercase= True, use_digits= True, use_special= True))\n",
    "                  "
   ]
  },
  {
   "cell_type": "code",
   "execution_count": null,
   "id": "eb375ad8-9f50-4664-9bf4-ad50e6667f70",
   "metadata": {},
   "outputs": [],
   "source": []
  },
  {
   "cell_type": "code",
   "execution_count": null,
   "id": "bc93dbc9-f1d1-4615-847a-354137088300",
   "metadata": {},
   "outputs": [],
   "source": []
  },
  {
   "cell_type": "code",
   "execution_count": null,
   "id": "fb085a03-e4a8-4dfa-b2e0-5793f0c30e37",
   "metadata": {},
   "outputs": [],
   "source": []
  }
 ],
 "metadata": {
  "kernelspec": {
   "display_name": "Python 3 (ipykernel)",
   "language": "python",
   "name": "python3"
  },
  "language_info": {
   "codemirror_mode": {
    "name": "ipython",
    "version": 3
   },
   "file_extension": ".py",
   "mimetype": "text/x-python",
   "name": "python",
   "nbconvert_exporter": "python",
   "pygments_lexer": "ipython3",
   "version": "3.11.8"
  }
 },
 "nbformat": 4,
 "nbformat_minor": 5
}
